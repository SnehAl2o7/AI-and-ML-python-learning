{
  "nbformat": 4,
  "nbformat_minor": 0,
  "metadata": {
    "colab": {
      "provenance": [],
      "authorship_tag": "ABX9TyMTPp7S1HEEZmaiGqDJNq1v",
      "include_colab_link": true
    },
    "kernelspec": {
      "name": "python3",
      "display_name": "Python 3"
    },
    "language_info": {
      "name": "python"
    }
  },
  "cells": [
    {
      "cell_type": "markdown",
      "metadata": {
        "id": "view-in-github",
        "colab_type": "text"
      },
      "source": [
        "<a href=\"https://colab.research.google.com/github/SnehAl2o7/AI-and-ML-python-learning/blob/main/sentimantal_analysis.ipynb\" target=\"_parent\"><img src=\"https://colab.research.google.com/assets/colab-badge.svg\" alt=\"Open In Colab\"/></a>"
      ]
    },
    {
      "cell_type": "code",
      "execution_count": 1,
      "metadata": {
        "colab": {
          "base_uri": "https://localhost:8080/"
        },
        "id": "_zBrmk4ldxAB",
        "outputId": "9d8e74c1-1b5f-4af7-eb1e-48d23751579e"
      },
      "outputs": [
        {
          "output_type": "stream",
          "name": "stdout",
          "text": [
            "Requirement already satisfied: transformers in /usr/local/lib/python3.12/dist-packages (4.57.0)\n",
            "Requirement already satisfied: filelock in /usr/local/lib/python3.12/dist-packages (from transformers) (3.20.0)\n",
            "Requirement already satisfied: huggingface-hub<1.0,>=0.34.0 in /usr/local/lib/python3.12/dist-packages (from transformers) (0.35.3)\n",
            "Requirement already satisfied: numpy>=1.17 in /usr/local/lib/python3.12/dist-packages (from transformers) (2.0.2)\n",
            "Requirement already satisfied: packaging>=20.0 in /usr/local/lib/python3.12/dist-packages (from transformers) (25.0)\n",
            "Requirement already satisfied: pyyaml>=5.1 in /usr/local/lib/python3.12/dist-packages (from transformers) (6.0.3)\n",
            "Requirement already satisfied: regex!=2019.12.17 in /usr/local/lib/python3.12/dist-packages (from transformers) (2024.11.6)\n",
            "Requirement already satisfied: requests in /usr/local/lib/python3.12/dist-packages (from transformers) (2.32.4)\n",
            "Requirement already satisfied: tokenizers<=0.23.0,>=0.22.0 in /usr/local/lib/python3.12/dist-packages (from transformers) (0.22.1)\n",
            "Requirement already satisfied: safetensors>=0.4.3 in /usr/local/lib/python3.12/dist-packages (from transformers) (0.6.2)\n",
            "Requirement already satisfied: tqdm>=4.27 in /usr/local/lib/python3.12/dist-packages (from transformers) (4.67.1)\n",
            "Requirement already satisfied: fsspec>=2023.5.0 in /usr/local/lib/python3.12/dist-packages (from huggingface-hub<1.0,>=0.34.0->transformers) (2025.3.0)\n",
            "Requirement already satisfied: typing-extensions>=3.7.4.3 in /usr/local/lib/python3.12/dist-packages (from huggingface-hub<1.0,>=0.34.0->transformers) (4.15.0)\n",
            "Requirement already satisfied: hf-xet<2.0.0,>=1.1.3 in /usr/local/lib/python3.12/dist-packages (from huggingface-hub<1.0,>=0.34.0->transformers) (1.1.10)\n",
            "Requirement already satisfied: charset_normalizer<4,>=2 in /usr/local/lib/python3.12/dist-packages (from requests->transformers) (3.4.3)\n",
            "Requirement already satisfied: idna<4,>=2.5 in /usr/local/lib/python3.12/dist-packages (from requests->transformers) (3.10)\n",
            "Requirement already satisfied: urllib3<3,>=1.21.1 in /usr/local/lib/python3.12/dist-packages (from requests->transformers) (2.5.0)\n",
            "Requirement already satisfied: certifi>=2017.4.17 in /usr/local/lib/python3.12/dist-packages (from requests->transformers) (2025.10.5)\n",
            "Requirement already satisfied: torch in /usr/local/lib/python3.12/dist-packages (2.8.0+cu126)\n",
            "Requirement already satisfied: filelock in /usr/local/lib/python3.12/dist-packages (from torch) (3.20.0)\n",
            "Requirement already satisfied: typing-extensions>=4.10.0 in /usr/local/lib/python3.12/dist-packages (from torch) (4.15.0)\n",
            "Requirement already satisfied: setuptools in /usr/local/lib/python3.12/dist-packages (from torch) (75.2.0)\n",
            "Requirement already satisfied: sympy>=1.13.3 in /usr/local/lib/python3.12/dist-packages (from torch) (1.13.3)\n",
            "Requirement already satisfied: networkx in /usr/local/lib/python3.12/dist-packages (from torch) (3.5)\n",
            "Requirement already satisfied: jinja2 in /usr/local/lib/python3.12/dist-packages (from torch) (3.1.6)\n",
            "Requirement already satisfied: fsspec in /usr/local/lib/python3.12/dist-packages (from torch) (2025.3.0)\n",
            "Requirement already satisfied: nvidia-cuda-nvrtc-cu12==12.6.77 in /usr/local/lib/python3.12/dist-packages (from torch) (12.6.77)\n",
            "Requirement already satisfied: nvidia-cuda-runtime-cu12==12.6.77 in /usr/local/lib/python3.12/dist-packages (from torch) (12.6.77)\n",
            "Requirement already satisfied: nvidia-cuda-cupti-cu12==12.6.80 in /usr/local/lib/python3.12/dist-packages (from torch) (12.6.80)\n",
            "Requirement already satisfied: nvidia-cudnn-cu12==9.10.2.21 in /usr/local/lib/python3.12/dist-packages (from torch) (9.10.2.21)\n",
            "Requirement already satisfied: nvidia-cublas-cu12==12.6.4.1 in /usr/local/lib/python3.12/dist-packages (from torch) (12.6.4.1)\n",
            "Requirement already satisfied: nvidia-cufft-cu12==11.3.0.4 in /usr/local/lib/python3.12/dist-packages (from torch) (11.3.0.4)\n",
            "Requirement already satisfied: nvidia-curand-cu12==10.3.7.77 in /usr/local/lib/python3.12/dist-packages (from torch) (10.3.7.77)\n",
            "Requirement already satisfied: nvidia-cusolver-cu12==11.7.1.2 in /usr/local/lib/python3.12/dist-packages (from torch) (11.7.1.2)\n",
            "Requirement already satisfied: nvidia-cusparse-cu12==12.5.4.2 in /usr/local/lib/python3.12/dist-packages (from torch) (12.5.4.2)\n",
            "Requirement already satisfied: nvidia-cusparselt-cu12==0.7.1 in /usr/local/lib/python3.12/dist-packages (from torch) (0.7.1)\n",
            "Requirement already satisfied: nvidia-nccl-cu12==2.27.3 in /usr/local/lib/python3.12/dist-packages (from torch) (2.27.3)\n",
            "Requirement already satisfied: nvidia-nvtx-cu12==12.6.77 in /usr/local/lib/python3.12/dist-packages (from torch) (12.6.77)\n",
            "Requirement already satisfied: nvidia-nvjitlink-cu12==12.6.85 in /usr/local/lib/python3.12/dist-packages (from torch) (12.6.85)\n",
            "Requirement already satisfied: nvidia-cufile-cu12==1.11.1.6 in /usr/local/lib/python3.12/dist-packages (from torch) (1.11.1.6)\n",
            "Requirement already satisfied: triton==3.4.0 in /usr/local/lib/python3.12/dist-packages (from torch) (3.4.0)\n",
            "Requirement already satisfied: mpmath<1.4,>=1.1.0 in /usr/local/lib/python3.12/dist-packages (from sympy>=1.13.3->torch) (1.3.0)\n",
            "Requirement already satisfied: MarkupSafe>=2.0 in /usr/local/lib/python3.12/dist-packages (from jinja2->torch) (3.0.3)\n",
            "Requirement already satisfied: datasets in /usr/local/lib/python3.12/dist-packages (4.0.0)\n",
            "Requirement already satisfied: accelerate in /usr/local/lib/python3.12/dist-packages (1.10.1)\n",
            "Requirement already satisfied: filelock in /usr/local/lib/python3.12/dist-packages (from datasets) (3.20.0)\n",
            "Requirement already satisfied: numpy>=1.17 in /usr/local/lib/python3.12/dist-packages (from datasets) (2.0.2)\n",
            "Requirement already satisfied: pyarrow>=15.0.0 in /usr/local/lib/python3.12/dist-packages (from datasets) (18.1.0)\n",
            "Requirement already satisfied: dill<0.3.9,>=0.3.0 in /usr/local/lib/python3.12/dist-packages (from datasets) (0.3.8)\n",
            "Requirement already satisfied: pandas in /usr/local/lib/python3.12/dist-packages (from datasets) (2.2.2)\n",
            "Requirement already satisfied: requests>=2.32.2 in /usr/local/lib/python3.12/dist-packages (from datasets) (2.32.4)\n",
            "Requirement already satisfied: tqdm>=4.66.3 in /usr/local/lib/python3.12/dist-packages (from datasets) (4.67.1)\n",
            "Requirement already satisfied: xxhash in /usr/local/lib/python3.12/dist-packages (from datasets) (3.6.0)\n",
            "Requirement already satisfied: multiprocess<0.70.17 in /usr/local/lib/python3.12/dist-packages (from datasets) (0.70.16)\n",
            "Requirement already satisfied: fsspec<=2025.3.0,>=2023.1.0 in /usr/local/lib/python3.12/dist-packages (from fsspec[http]<=2025.3.0,>=2023.1.0->datasets) (2025.3.0)\n",
            "Requirement already satisfied: huggingface-hub>=0.24.0 in /usr/local/lib/python3.12/dist-packages (from datasets) (0.35.3)\n",
            "Requirement already satisfied: packaging in /usr/local/lib/python3.12/dist-packages (from datasets) (25.0)\n",
            "Requirement already satisfied: pyyaml>=5.1 in /usr/local/lib/python3.12/dist-packages (from datasets) (6.0.3)\n",
            "Requirement already satisfied: psutil in /usr/local/lib/python3.12/dist-packages (from accelerate) (5.9.5)\n",
            "Requirement already satisfied: torch>=2.0.0 in /usr/local/lib/python3.12/dist-packages (from accelerate) (2.8.0+cu126)\n",
            "Requirement already satisfied: safetensors>=0.4.3 in /usr/local/lib/python3.12/dist-packages (from accelerate) (0.6.2)\n",
            "Requirement already satisfied: aiohttp!=4.0.0a0,!=4.0.0a1 in /usr/local/lib/python3.12/dist-packages (from fsspec[http]<=2025.3.0,>=2023.1.0->datasets) (3.13.0)\n",
            "Requirement already satisfied: typing-extensions>=3.7.4.3 in /usr/local/lib/python3.12/dist-packages (from huggingface-hub>=0.24.0->datasets) (4.15.0)\n",
            "Requirement already satisfied: hf-xet<2.0.0,>=1.1.3 in /usr/local/lib/python3.12/dist-packages (from huggingface-hub>=0.24.0->datasets) (1.1.10)\n",
            "Requirement already satisfied: charset_normalizer<4,>=2 in /usr/local/lib/python3.12/dist-packages (from requests>=2.32.2->datasets) (3.4.3)\n",
            "Requirement already satisfied: idna<4,>=2.5 in /usr/local/lib/python3.12/dist-packages (from requests>=2.32.2->datasets) (3.10)\n",
            "Requirement already satisfied: urllib3<3,>=1.21.1 in /usr/local/lib/python3.12/dist-packages (from requests>=2.32.2->datasets) (2.5.0)\n",
            "Requirement already satisfied: certifi>=2017.4.17 in /usr/local/lib/python3.12/dist-packages (from requests>=2.32.2->datasets) (2025.10.5)\n",
            "Requirement already satisfied: setuptools in /usr/local/lib/python3.12/dist-packages (from torch>=2.0.0->accelerate) (75.2.0)\n",
            "Requirement already satisfied: sympy>=1.13.3 in /usr/local/lib/python3.12/dist-packages (from torch>=2.0.0->accelerate) (1.13.3)\n",
            "Requirement already satisfied: networkx in /usr/local/lib/python3.12/dist-packages (from torch>=2.0.0->accelerate) (3.5)\n",
            "Requirement already satisfied: jinja2 in /usr/local/lib/python3.12/dist-packages (from torch>=2.0.0->accelerate) (3.1.6)\n",
            "Requirement already satisfied: nvidia-cuda-nvrtc-cu12==12.6.77 in /usr/local/lib/python3.12/dist-packages (from torch>=2.0.0->accelerate) (12.6.77)\n",
            "Requirement already satisfied: nvidia-cuda-runtime-cu12==12.6.77 in /usr/local/lib/python3.12/dist-packages (from torch>=2.0.0->accelerate) (12.6.77)\n",
            "Requirement already satisfied: nvidia-cuda-cupti-cu12==12.6.80 in /usr/local/lib/python3.12/dist-packages (from torch>=2.0.0->accelerate) (12.6.80)\n",
            "Requirement already satisfied: nvidia-cudnn-cu12==9.10.2.21 in /usr/local/lib/python3.12/dist-packages (from torch>=2.0.0->accelerate) (9.10.2.21)\n",
            "Requirement already satisfied: nvidia-cublas-cu12==12.6.4.1 in /usr/local/lib/python3.12/dist-packages (from torch>=2.0.0->accelerate) (12.6.4.1)\n",
            "Requirement already satisfied: nvidia-cufft-cu12==11.3.0.4 in /usr/local/lib/python3.12/dist-packages (from torch>=2.0.0->accelerate) (11.3.0.4)\n",
            "Requirement already satisfied: nvidia-curand-cu12==10.3.7.77 in /usr/local/lib/python3.12/dist-packages (from torch>=2.0.0->accelerate) (10.3.7.77)\n",
            "Requirement already satisfied: nvidia-cusolver-cu12==11.7.1.2 in /usr/local/lib/python3.12/dist-packages (from torch>=2.0.0->accelerate) (11.7.1.2)\n",
            "Requirement already satisfied: nvidia-cusparse-cu12==12.5.4.2 in /usr/local/lib/python3.12/dist-packages (from torch>=2.0.0->accelerate) (12.5.4.2)\n",
            "Requirement already satisfied: nvidia-cusparselt-cu12==0.7.1 in /usr/local/lib/python3.12/dist-packages (from torch>=2.0.0->accelerate) (0.7.1)\n",
            "Requirement already satisfied: nvidia-nccl-cu12==2.27.3 in /usr/local/lib/python3.12/dist-packages (from torch>=2.0.0->accelerate) (2.27.3)\n",
            "Requirement already satisfied: nvidia-nvtx-cu12==12.6.77 in /usr/local/lib/python3.12/dist-packages (from torch>=2.0.0->accelerate) (12.6.77)\n",
            "Requirement already satisfied: nvidia-nvjitlink-cu12==12.6.85 in /usr/local/lib/python3.12/dist-packages (from torch>=2.0.0->accelerate) (12.6.85)\n",
            "Requirement already satisfied: nvidia-cufile-cu12==1.11.1.6 in /usr/local/lib/python3.12/dist-packages (from torch>=2.0.0->accelerate) (1.11.1.6)\n",
            "Requirement already satisfied: triton==3.4.0 in /usr/local/lib/python3.12/dist-packages (from torch>=2.0.0->accelerate) (3.4.0)\n",
            "Requirement already satisfied: python-dateutil>=2.8.2 in /usr/local/lib/python3.12/dist-packages (from pandas->datasets) (2.9.0.post0)\n",
            "Requirement already satisfied: pytz>=2020.1 in /usr/local/lib/python3.12/dist-packages (from pandas->datasets) (2025.2)\n",
            "Requirement already satisfied: tzdata>=2022.7 in /usr/local/lib/python3.12/dist-packages (from pandas->datasets) (2025.2)\n",
            "Requirement already satisfied: aiohappyeyeballs>=2.5.0 in /usr/local/lib/python3.12/dist-packages (from aiohttp!=4.0.0a0,!=4.0.0a1->fsspec[http]<=2025.3.0,>=2023.1.0->datasets) (2.6.1)\n",
            "Requirement already satisfied: aiosignal>=1.4.0 in /usr/local/lib/python3.12/dist-packages (from aiohttp!=4.0.0a0,!=4.0.0a1->fsspec[http]<=2025.3.0,>=2023.1.0->datasets) (1.4.0)\n",
            "Requirement already satisfied: attrs>=17.3.0 in /usr/local/lib/python3.12/dist-packages (from aiohttp!=4.0.0a0,!=4.0.0a1->fsspec[http]<=2025.3.0,>=2023.1.0->datasets) (25.4.0)\n",
            "Requirement already satisfied: frozenlist>=1.1.1 in /usr/local/lib/python3.12/dist-packages (from aiohttp!=4.0.0a0,!=4.0.0a1->fsspec[http]<=2025.3.0,>=2023.1.0->datasets) (1.8.0)\n",
            "Requirement already satisfied: multidict<7.0,>=4.5 in /usr/local/lib/python3.12/dist-packages (from aiohttp!=4.0.0a0,!=4.0.0a1->fsspec[http]<=2025.3.0,>=2023.1.0->datasets) (6.7.0)\n",
            "Requirement already satisfied: propcache>=0.2.0 in /usr/local/lib/python3.12/dist-packages (from aiohttp!=4.0.0a0,!=4.0.0a1->fsspec[http]<=2025.3.0,>=2023.1.0->datasets) (0.3.2)\n",
            "Requirement already satisfied: yarl<2.0,>=1.17.0 in /usr/local/lib/python3.12/dist-packages (from aiohttp!=4.0.0a0,!=4.0.0a1->fsspec[http]<=2025.3.0,>=2023.1.0->datasets) (1.22.0)\n",
            "Requirement already satisfied: six>=1.5 in /usr/local/lib/python3.12/dist-packages (from python-dateutil>=2.8.2->pandas->datasets) (1.17.0)\n",
            "Requirement already satisfied: mpmath<1.4,>=1.1.0 in /usr/local/lib/python3.12/dist-packages (from sympy>=1.13.3->torch>=2.0.0->accelerate) (1.3.0)\n",
            "Requirement already satisfied: MarkupSafe>=2.0 in /usr/local/lib/python3.12/dist-packages (from jinja2->torch>=2.0.0->accelerate) (3.0.3)\n"
          ]
        }
      ],
      "source": [
        "!pip install transformers\n",
        "!pip install torch\n",
        "!pip install datasets accelerate"
      ]
    },
    {
      "cell_type": "code",
      "source": [
        "import pandas as pd\n",
        "\n",
        "books = pd.read_csv('/content/books_with_categories.csv')"
      ],
      "metadata": {
        "id": "Srt_yf_rerWk"
      },
      "execution_count": 3,
      "outputs": []
    },
    {
      "cell_type": "code",
      "source": [
        "from transformers import pipeline\n",
        "classifier = pipeline('text-classification', model=\"j-hartmann/emotion-english-distilroberta-base\", top_k=None)\n",
        "classifier(\"i LOve this\")"
      ],
      "metadata": {
        "colab": {
          "base_uri": "https://localhost:8080/"
        },
        "id": "-ooevBcpfHKi",
        "outputId": "aec854a7-029a-431c-f273-109fe83c8abc"
      },
      "execution_count": 6,
      "outputs": [
        {
          "output_type": "stream",
          "name": "stderr",
          "text": [
            "Device set to use cpu\n"
          ]
        },
        {
          "output_type": "execute_result",
          "data": {
            "text/plain": [
              "[[{'label': 'neutral', 'score': 0.4618334174156189},\n",
              "  {'label': 'surprise', 'score': 0.2696042060852051},\n",
              "  {'label': 'joy', 'score': 0.14265355467796326},\n",
              "  {'label': 'sadness', 'score': 0.11204851418733597},\n",
              "  {'label': 'anger', 'score': 0.006857751403003931},\n",
              "  {'label': 'fear', 'score': 0.005402354057878256},\n",
              "  {'label': 'disgust', 'score': 0.0016001898329705}]]"
            ]
          },
          "metadata": {},
          "execution_count": 6
        }
      ]
    },
    {
      "cell_type": "code",
      "source": [
        "books[\"description\"][0]"
      ],
      "metadata": {
        "colab": {
          "base_uri": "https://localhost:8080/",
          "height": 124
        },
        "id": "yBnKNJuif66f",
        "outputId": "5c225509-c910-4fbc-d613-2e0d4d37f2b8"
      },
      "execution_count": 7,
      "outputs": [
        {
          "output_type": "execute_result",
          "data": {
            "text/plain": [
              "'A NOVEL THAT READERS and critics have been eagerly anticipating for over a decade, Gilead is an astonishingly imagined story of remarkable lives. John Ames is a preacher, the son of a preacher and the grandson (both maternal and paternal) of preachers. It’s 1956 in Gilead, Iowa, towards the end of the Reverend Ames’s life, and he is absorbed in recording his family’s story, a legacy for the young son he will never see grow up. Haunted by his grandfather’s presence, John tells of the rift between his grandfather and his father: the elder, an angry visionary who fought for the abolitionist cause, and his son, an ardent pacifist. He is troubled, too, by his prodigal namesake, Jack (John Ames) Boughton, his best friend’s lost son who returns to Gilead searching for forgiveness and redemption. Told in John Ames’s joyous, rambling voice that finds beauty, humour and truth in the smallest of life’s details, Gilead is a song of celebration and acceptance of the best and the worst the world has to offer. At its heart is a tale of the sacred bonds between fathers and sons, pitch-perfect in style and story, set to dazzle critics and readers alike.'"
            ],
            "application/vnd.google.colaboratory.intrinsic+json": {
              "type": "string"
            }
          },
          "metadata": {},
          "execution_count": 7
        }
      ]
    },
    {
      "cell_type": "code",
      "source": [
        "classifier(books[\"description\"][0])"
      ],
      "metadata": {
        "colab": {
          "base_uri": "https://localhost:8080/"
        },
        "id": "ForXmphQgwDn",
        "outputId": "fb644b50-380a-49c1-c5ce-5345191ecc39"
      },
      "execution_count": 8,
      "outputs": [
        {
          "output_type": "execute_result",
          "data": {
            "text/plain": [
              "[[{'label': 'fear', 'score': 0.6548399329185486},\n",
              "  {'label': 'neutral', 'score': 0.1698525846004486},\n",
              "  {'label': 'sadness', 'score': 0.11640949547290802},\n",
              "  {'label': 'surprise', 'score': 0.020700670778751373},\n",
              "  {'label': 'disgust', 'score': 0.019100721925497055},\n",
              "  {'label': 'joy', 'score': 0.015161491930484772},\n",
              "  {'label': 'anger', 'score': 0.003935153596103191}]]"
            ]
          },
          "metadata": {},
          "execution_count": 8
        }
      ]
    },
    {
      "cell_type": "code",
      "source": [
        "classifier(books[\"description\"][0].split(\".\"))"
      ],
      "metadata": {
        "colab": {
          "base_uri": "https://localhost:8080/"
        },
        "id": "iVCS2KRkg7bA",
        "outputId": "96a3e859-6af1-4d99-c278-76ce6f8c3910"
      },
      "execution_count": 9,
      "outputs": [
        {
          "output_type": "execute_result",
          "data": {
            "text/plain": [
              "[[{'label': 'surprise', 'score': 0.7296022176742554},\n",
              "  {'label': 'neutral', 'score': 0.14038586616516113},\n",
              "  {'label': 'fear', 'score': 0.06816234439611435},\n",
              "  {'label': 'joy', 'score': 0.047942597419023514},\n",
              "  {'label': 'anger', 'score': 0.009156372398138046},\n",
              "  {'label': 'disgust', 'score': 0.002628477057442069},\n",
              "  {'label': 'sadness', 'score': 0.002122163074091077}],\n",
              " [{'label': 'neutral', 'score': 0.44936978816986084},\n",
              "  {'label': 'disgust', 'score': 0.273592084646225},\n",
              "  {'label': 'joy', 'score': 0.10908310860395432},\n",
              "  {'label': 'sadness', 'score': 0.09362740814685822},\n",
              "  {'label': 'anger', 'score': 0.04047837108373642},\n",
              "  {'label': 'surprise', 'score': 0.026970159262418747},\n",
              "  {'label': 'fear', 'score': 0.006879053078591824}],\n",
              " [{'label': 'neutral', 'score': 0.6462154984474182},\n",
              "  {'label': 'sadness', 'score': 0.24273376166820526},\n",
              "  {'label': 'disgust', 'score': 0.04342268407344818},\n",
              "  {'label': 'surprise', 'score': 0.02830057218670845},\n",
              "  {'label': 'joy', 'score': 0.014211485162377357},\n",
              "  {'label': 'fear', 'score': 0.01408409420400858},\n",
              "  {'label': 'anger', 'score': 0.011031893081963062}],\n",
              " [{'label': 'fear', 'score': 0.9281684160232544},\n",
              "  {'label': 'anger', 'score': 0.03219080716371536},\n",
              "  {'label': 'neutral', 'score': 0.012808655388653278},\n",
              "  {'label': 'sadness', 'score': 0.008756867609918118},\n",
              "  {'label': 'surprise', 'score': 0.008597898297011852},\n",
              "  {'label': 'disgust', 'score': 0.008431808091700077},\n",
              "  {'label': 'joy', 'score': 0.0010455824667587876}],\n",
              " [{'label': 'sadness', 'score': 0.9671575427055359},\n",
              "  {'label': 'neutral', 'score': 0.01510414108633995},\n",
              "  {'label': 'disgust', 'score': 0.006480592768639326},\n",
              "  {'label': 'fear', 'score': 0.005393984727561474},\n",
              "  {'label': 'surprise', 'score': 0.002286941045895219},\n",
              "  {'label': 'anger', 'score': 0.0018428886542096734},\n",
              "  {'label': 'joy', 'score': 0.001733877114020288}],\n",
              " [{'label': 'joy', 'score': 0.9327981472015381},\n",
              "  {'label': 'disgust', 'score': 0.037717025727033615},\n",
              "  {'label': 'neutral', 'score': 0.015891827642917633},\n",
              "  {'label': 'sadness', 'score': 0.006444494239985943},\n",
              "  {'label': 'anger', 'score': 0.005024963524192572},\n",
              "  {'label': 'surprise', 'score': 0.00158120587002486},\n",
              "  {'label': 'fear', 'score': 0.0005423057009465992}],\n",
              " [{'label': 'joy', 'score': 0.652870774269104},\n",
              "  {'label': 'neutral', 'score': 0.25427475571632385},\n",
              "  {'label': 'surprise', 'score': 0.06808294355869293},\n",
              "  {'label': 'sadness', 'score': 0.009908999316394329},\n",
              "  {'label': 'disgust', 'score': 0.006512213498353958},\n",
              "  {'label': 'anger', 'score': 0.004821308888494968},\n",
              "  {'label': 'fear', 'score': 0.003529014065861702}],\n",
              " [{'label': 'neutral', 'score': 0.5494765043258667},\n",
              "  {'label': 'sadness', 'score': 0.11169024556875229},\n",
              "  {'label': 'disgust', 'score': 0.10400678217411041},\n",
              "  {'label': 'surprise', 'score': 0.07876549661159515},\n",
              "  {'label': 'anger', 'score': 0.0641336739063263},\n",
              "  {'label': 'fear', 'score': 0.051362860947847366},\n",
              "  {'label': 'joy', 'score': 0.04056445509195328}]]"
            ]
          },
          "metadata": {},
          "execution_count": 9
        }
      ]
    },
    {
      "cell_type": "code",
      "source": [
        "sentence = books[\"description\"][0].split(\".\")\n",
        "predictions = classifier(sentence)"
      ],
      "metadata": {
        "id": "twgpv30thOP0"
      },
      "execution_count": 10,
      "outputs": []
    },
    {
      "cell_type": "code",
      "source": [
        "sentence[0]"
      ],
      "metadata": {
        "colab": {
          "base_uri": "https://localhost:8080/",
          "height": 35
        },
        "id": "z9peg4F7htHm",
        "outputId": "1a7ef9a9-b252-4df4-e1e9-a0e025a244fa"
      },
      "execution_count": 11,
      "outputs": [
        {
          "output_type": "execute_result",
          "data": {
            "text/plain": [
              "'A NOVEL THAT READERS and critics have been eagerly anticipating for over a decade, Gilead is an astonishingly imagined story of remarkable lives'"
            ],
            "application/vnd.google.colaboratory.intrinsic+json": {
              "type": "string"
            }
          },
          "metadata": {},
          "execution_count": 11
        }
      ]
    },
    {
      "cell_type": "code",
      "source": [
        "predictions[0]"
      ],
      "metadata": {
        "colab": {
          "base_uri": "https://localhost:8080/"
        },
        "id": "q-oX3wMFhuj6",
        "outputId": "029c0673-4f9d-45d4-bc66-8ac058b5fad5"
      },
      "execution_count": 12,
      "outputs": [
        {
          "output_type": "execute_result",
          "data": {
            "text/plain": [
              "[{'label': 'surprise', 'score': 0.7296022176742554},\n",
              " {'label': 'neutral', 'score': 0.14038586616516113},\n",
              " {'label': 'fear', 'score': 0.06816234439611435},\n",
              " {'label': 'joy', 'score': 0.047942597419023514},\n",
              " {'label': 'anger', 'score': 0.009156372398138046},\n",
              " {'label': 'disgust', 'score': 0.002628477057442069},\n",
              " {'label': 'sadness', 'score': 0.002122163074091077}]"
            ]
          },
          "metadata": {},
          "execution_count": 12
        }
      ]
    },
    {
      "cell_type": "code",
      "source": [
        "sentence[3]"
      ],
      "metadata": {
        "colab": {
          "base_uri": "https://localhost:8080/",
          "height": 52
        },
        "id": "9ho9jO6dhwcw",
        "outputId": "91219690-e20a-4f29-bbd5-8f2fdda970a3"
      },
      "execution_count": 13,
      "outputs": [
        {
          "output_type": "execute_result",
          "data": {
            "text/plain": [
              "' Haunted by his grandfather’s presence, John tells of the rift between his grandfather and his father: the elder, an angry visionary who fought for the abolitionist cause, and his son, an ardent pacifist'"
            ],
            "application/vnd.google.colaboratory.intrinsic+json": {
              "type": "string"
            }
          },
          "metadata": {},
          "execution_count": 13
        }
      ]
    },
    {
      "cell_type": "code",
      "source": [
        "predictions[3]"
      ],
      "metadata": {
        "colab": {
          "base_uri": "https://localhost:8080/"
        },
        "id": "Cl850JYDh4FO",
        "outputId": "cdb00d6a-0fa2-4106-8c57-969a5bf8881c"
      },
      "execution_count": 14,
      "outputs": [
        {
          "output_type": "execute_result",
          "data": {
            "text/plain": [
              "[{'label': 'fear', 'score': 0.9281684160232544},\n",
              " {'label': 'anger', 'score': 0.03219080716371536},\n",
              " {'label': 'neutral', 'score': 0.012808655388653278},\n",
              " {'label': 'sadness', 'score': 0.008756867609918118},\n",
              " {'label': 'surprise', 'score': 0.008597898297011852},\n",
              " {'label': 'disgust', 'score': 0.008431808091700077},\n",
              " {'label': 'joy', 'score': 0.0010455824667587876}]"
            ]
          },
          "metadata": {},
          "execution_count": 14
        }
      ]
    },
    {
      "cell_type": "code",
      "source": [
        "sorted(predictions[0], key=lambda x: x[\"label\"])"
      ],
      "metadata": {
        "colab": {
          "base_uri": "https://localhost:8080/"
        },
        "id": "mKEfzSXQh5uO",
        "outputId": "2476fa23-ef8a-4d5d-c586-354bf055e102"
      },
      "execution_count": 15,
      "outputs": [
        {
          "output_type": "execute_result",
          "data": {
            "text/plain": [
              "[{'label': 'anger', 'score': 0.009156372398138046},\n",
              " {'label': 'disgust', 'score': 0.002628477057442069},\n",
              " {'label': 'fear', 'score': 0.06816234439611435},\n",
              " {'label': 'joy', 'score': 0.047942597419023514},\n",
              " {'label': 'neutral', 'score': 0.14038586616516113},\n",
              " {'label': 'sadness', 'score': 0.002122163074091077},\n",
              " {'label': 'surprise', 'score': 0.7296022176742554}]"
            ]
          },
          "metadata": {},
          "execution_count": 15
        }
      ]
    },
    {
      "cell_type": "code",
      "source": [
        "import numpy as np\n",
        "\n",
        "emotion_labels = [\"anger\" , \"disguist\", \"fear\", \"joy\", \"sadness\", \"suprise\", \"neutral\"]\n",
        "isbn = []\n",
        "emotion_scroes = {label: [] for label in emotion_labels}\n",
        "\n",
        "\n",
        "def calculate_max_scores(predictions):\n",
        "  per_emotion_scroes = {label: [] for label in emotion_labels}\n",
        "  for prediction in predictions:\n",
        "    sorted_prediction = sorted(prediction, key=lambda x: x[\"label\"])\n",
        "    for index, label in enumerate(emotion_labels):\n",
        "      per_emotion_scroes[label].append(sorted_prediction[index][\"score\"])\n",
        "  return {label: np.mean(scores) for label, scores in per_emotion_scroes.items()}"
      ],
      "metadata": {
        "id": "UrKDtwNPiidl"
      },
      "execution_count": 16,
      "outputs": []
    },
    {
      "cell_type": "code",
      "source": [
        "for i in range(10):\n",
        "  isbn.append(books[\"isbn13\"][i])\n",
        "  predictions = classifier(books[\"description\"][i].split(\".\"))\n",
        "  max_scores = calculate_max_scores(predictions)\n",
        "  for label, score in max_scores.items():\n",
        "    emotion_scroes[label].append(max_scores[label])"
      ],
      "metadata": {
        "id": "1-cBfJBTkJBg"
      },
      "execution_count": 19,
      "outputs": []
    },
    {
      "cell_type": "code",
      "source": [
        "(emotion_scroes)"
      ],
      "metadata": {
        "colab": {
          "base_uri": "https://localhost:8080/"
        },
        "id": "VS9KR7Jjkato",
        "outputId": "5fd39828-2288-4d76-cdb3-8492e3e37b55"
      },
      "execution_count": 23,
      "outputs": [
        {
          "output_type": "execute_result",
          "data": {
            "text/plain": [
              "{'anger': [np.float64(0.02108503483759705),\n",
              "  np.float64(0.08872445831075311),\n",
              "  np.float64(0.03953385011603435),\n",
              "  np.float64(0.10958852444309741),\n",
              "  np.float64(0.04434011969715357),\n",
              "  np.float64(0.13018578407354653),\n",
              "  np.float64(0.11615170216695829),\n",
              "  np.float64(0.030368409973258775),\n",
              "  np.float64(0.12057169092198212),\n",
              "  np.float64(0.0296363056016465)],\n",
              " 'disguist': [np.float64(0.06034895850461908),\n",
              "  np.float64(0.07088205276522785),\n",
              "  np.float64(0.043369543428222336),\n",
              "  np.float64(0.07961062784306705),\n",
              "  np.float64(0.08300445262076599),\n",
              "  np.float64(0.34513024846091866),\n",
              "  np.float64(0.05647668092172931),\n",
              "  np.float64(0.05007619162400564),\n",
              "  np.float64(0.11398908321280032),\n",
              "  np.float64(0.09646188110734026)],\n",
              " 'fear': [np.float64(0.13476525914302329),\n",
              "  np.float64(0.17272930757608265),\n",
              "  np.float64(0.3759147760768731),\n",
              "  np.float64(0.10391945589799434),\n",
              "  np.float64(0.0345718507721488),\n",
              "  np.float64(0.030926754232496023),\n",
              "  np.float64(0.19363703422079032),\n",
              "  np.float64(0.1775540498395761),\n",
              "  np.float64(0.23060733762880167),\n",
              "  np.float64(0.03514497261494398)],\n",
              " 'joy': [np.float64(0.2250312534160912),\n",
              "  np.float64(0.10825253219227307),\n",
              "  np.float64(0.27009090835539),\n",
              "  np.float64(0.11435642722062767),\n",
              "  np.float64(0.024379923540566648),\n",
              "  np.float64(0.02140705453348346),\n",
              "  np.float64(0.09386659204028547),\n",
              "  np.float64(0.019021696799124282),\n",
              "  np.float64(0.01295579046321412),\n",
              "  np.float64(0.029715278496344883)],\n",
              " 'sadness': [np.float64(0.2604408796178177),\n",
              "  np.float64(0.4216343604028225),\n",
              "  np.float64(0.19876475539058447),\n",
              "  np.float64(0.5162214692682028),\n",
              "  np.float64(0.6230012859616961),\n",
              "  np.float64(0.3257252057082951),\n",
              "  np.float64(0.39254291491074994),\n",
              "  np.float64(0.2956998012959957),\n",
              "  np.float64(0.2968744036431114),\n",
              "  np.float64(0.6907520691553751)],\n",
              " 'suprise': [np.float64(0.18030518529121764),\n",
              "  np.float64(0.04232529387809336),\n",
              "  np.float64(0.04128359002061188),\n",
              "  np.float64(0.04654852143721655),\n",
              "  np.float64(0.14452895282634667),\n",
              "  np.float64(0.056571646709926426),\n",
              "  np.float64(0.10673062494871291),\n",
              "  np.float64(0.31823303550481796),\n",
              "  np.float64(0.1699608388977746),\n",
              "  np.float64(0.057860412945350014)],\n",
              " 'neutral': [np.float64(0.11802342931332532),\n",
              "  np.float64(0.09545199256390333),\n",
              "  np.float64(0.031042583752423525),\n",
              "  np.float64(0.029754980583675206),\n",
              "  np.float64(0.04617344142336931),\n",
              "  np.float64(0.09005331463413313),\n",
              "  np.float64(0.04059445832602002),\n",
              "  np.float64(0.10904683141658704),\n",
              "  np.float64(0.05504086404107511),\n",
              "  np.float64(0.06042910491426786)]}"
            ]
          },
          "metadata": {},
          "execution_count": 23
        }
      ]
    },
    {
      "cell_type": "code",
      "source": [],
      "metadata": {
        "id": "4G3LVfMxktbw"
      },
      "execution_count": null,
      "outputs": []
    }
  ]
}